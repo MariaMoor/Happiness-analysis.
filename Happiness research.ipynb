{
 "cells": [
  {
   "cell_type": "markdown",
   "metadata": {},
   "source": [
    "# What does happiness depends on?\n",
    "\n",
    "In my research I would like to analyse Happiness data from different countries.\n",
    "\n",
    "Here are 3 questions I would like to answer in my analysis:\n",
    "\n",
    "1) In which countries should I live to have more chance to be happy?\\\n",
    "2) How Happiness level changes over tree years?\n",
    "3) What are the main things that make people happy and how it changed in last 3 years? \\\n",
    "4) How did corona influence happiness of people in 2020?"
   ]
  },
  {
   "cell_type": "code",
   "execution_count": 318,
   "metadata": {},
   "outputs": [],
   "source": [
    "import numpy as np\n",
    "import pandas as pd\n",
    "import matplotlib.pyplot as plt\n",
    "from sklearn.linear_model import LinearRegression\n",
    "from sklearn.model_selection import train_test_split\n",
    "from sklearn.metrics import r2_score, mean_squared_error\n",
    "import seaborn as sns\n",
    "\n",
    "%matplotlib inline\n",
    "\n",
    "# Here I import the data. This are Happiness data sets for years 2018, 2019, 2020 and last COVID-19 numbers for 2020.\n",
    "df2018 = pd.read_csv('./Happiness_datasets_748584_1294786_2018.csv')\n",
    "df2019 = pd.read_csv('./Happiness_datasets_748584_1294786_2019.csv')\n",
    "df2020 = pd.read_csv('./Happiness_datasets_748584_1294786_2020.csv')\n",
    "covid = pd.read_csv('./Covid_country_wise_latest.csv')"
   ]
  },
  {
   "cell_type": "code",
   "execution_count": 319,
   "metadata": {},
   "outputs": [
    {
     "data": {
      "text/html": [
       "<div>\n",
       "<style scoped>\n",
       "    .dataframe tbody tr th:only-of-type {\n",
       "        vertical-align: middle;\n",
       "    }\n",
       "\n",
       "    .dataframe tbody tr th {\n",
       "        vertical-align: top;\n",
       "    }\n",
       "\n",
       "    .dataframe thead th {\n",
       "        text-align: right;\n",
       "    }\n",
       "</style>\n",
       "<table border=\"1\" class=\"dataframe\">\n",
       "  <thead>\n",
       "    <tr style=\"text-align: right;\">\n",
       "      <th></th>\n",
       "      <th>Overall rank</th>\n",
       "      <th>Country or region</th>\n",
       "      <th>Score</th>\n",
       "      <th>GDP per capita</th>\n",
       "      <th>Social support</th>\n",
       "      <th>Healthy life expectancy</th>\n",
       "      <th>Freedom to make life choices</th>\n",
       "      <th>Generosity</th>\n",
       "      <th>Perceptions of corruption</th>\n",
       "    </tr>\n",
       "  </thead>\n",
       "  <tbody>\n",
       "    <tr>\n",
       "      <th>0</th>\n",
       "      <td>1</td>\n",
       "      <td>Finland</td>\n",
       "      <td>7.632</td>\n",
       "      <td>1.305</td>\n",
       "      <td>1.592</td>\n",
       "      <td>0.874</td>\n",
       "      <td>0.681</td>\n",
       "      <td>0.202</td>\n",
       "      <td>0.393</td>\n",
       "    </tr>\n",
       "    <tr>\n",
       "      <th>1</th>\n",
       "      <td>2</td>\n",
       "      <td>Norway</td>\n",
       "      <td>7.594</td>\n",
       "      <td>1.456</td>\n",
       "      <td>1.582</td>\n",
       "      <td>0.861</td>\n",
       "      <td>0.686</td>\n",
       "      <td>0.286</td>\n",
       "      <td>0.340</td>\n",
       "    </tr>\n",
       "    <tr>\n",
       "      <th>2</th>\n",
       "      <td>3</td>\n",
       "      <td>Denmark</td>\n",
       "      <td>7.555</td>\n",
       "      <td>1.351</td>\n",
       "      <td>1.590</td>\n",
       "      <td>0.868</td>\n",
       "      <td>0.683</td>\n",
       "      <td>0.284</td>\n",
       "      <td>0.408</td>\n",
       "    </tr>\n",
       "    <tr>\n",
       "      <th>3</th>\n",
       "      <td>4</td>\n",
       "      <td>Iceland</td>\n",
       "      <td>7.495</td>\n",
       "      <td>1.343</td>\n",
       "      <td>1.644</td>\n",
       "      <td>0.914</td>\n",
       "      <td>0.677</td>\n",
       "      <td>0.353</td>\n",
       "      <td>0.138</td>\n",
       "    </tr>\n",
       "    <tr>\n",
       "      <th>4</th>\n",
       "      <td>5</td>\n",
       "      <td>Switzerland</td>\n",
       "      <td>7.487</td>\n",
       "      <td>1.420</td>\n",
       "      <td>1.549</td>\n",
       "      <td>0.927</td>\n",
       "      <td>0.660</td>\n",
       "      <td>0.256</td>\n",
       "      <td>0.357</td>\n",
       "    </tr>\n",
       "  </tbody>\n",
       "</table>\n",
       "</div>"
      ],
      "text/plain": [
       "   Overall rank Country or region  Score  GDP per capita  Social support  \\\n",
       "0             1           Finland  7.632           1.305           1.592   \n",
       "1             2            Norway  7.594           1.456           1.582   \n",
       "2             3           Denmark  7.555           1.351           1.590   \n",
       "3             4           Iceland  7.495           1.343           1.644   \n",
       "4             5       Switzerland  7.487           1.420           1.549   \n",
       "\n",
       "   Healthy life expectancy  Freedom to make life choices  Generosity  \\\n",
       "0                    0.874                         0.681       0.202   \n",
       "1                    0.861                         0.686       0.286   \n",
       "2                    0.868                         0.683       0.284   \n",
       "3                    0.914                         0.677       0.353   \n",
       "4                    0.927                         0.660       0.256   \n",
       "\n",
       "   Perceptions of corruption  \n",
       "0                      0.393  \n",
       "1                      0.340  \n",
       "2                      0.408  \n",
       "3                      0.138  \n",
       "4                      0.357  "
      ]
     },
     "execution_count": 319,
     "metadata": {},
     "output_type": "execute_result"
    }
   ],
   "source": [
    "# I look at the datasets separately to check if they have the same structure\n",
    "df2018.head()"
   ]
  },
  {
   "cell_type": "code",
   "execution_count": 320,
   "metadata": {},
   "outputs": [
    {
     "data": {
      "text/html": [
       "<div>\n",
       "<style scoped>\n",
       "    .dataframe tbody tr th:only-of-type {\n",
       "        vertical-align: middle;\n",
       "    }\n",
       "\n",
       "    .dataframe tbody tr th {\n",
       "        vertical-align: top;\n",
       "    }\n",
       "\n",
       "    .dataframe thead th {\n",
       "        text-align: right;\n",
       "    }\n",
       "</style>\n",
       "<table border=\"1\" class=\"dataframe\">\n",
       "  <thead>\n",
       "    <tr style=\"text-align: right;\">\n",
       "      <th></th>\n",
       "      <th>Overall rank</th>\n",
       "      <th>Country or region</th>\n",
       "      <th>Score</th>\n",
       "      <th>GDP per capita</th>\n",
       "      <th>Social support</th>\n",
       "      <th>Healthy life expectancy</th>\n",
       "      <th>Freedom to make life choices</th>\n",
       "      <th>Generosity</th>\n",
       "      <th>Perceptions of corruption</th>\n",
       "    </tr>\n",
       "  </thead>\n",
       "  <tbody>\n",
       "    <tr>\n",
       "      <th>0</th>\n",
       "      <td>1</td>\n",
       "      <td>Finland</td>\n",
       "      <td>7.769</td>\n",
       "      <td>1.340</td>\n",
       "      <td>1.587</td>\n",
       "      <td>0.986</td>\n",
       "      <td>0.596</td>\n",
       "      <td>0.153</td>\n",
       "      <td>0.393</td>\n",
       "    </tr>\n",
       "    <tr>\n",
       "      <th>1</th>\n",
       "      <td>2</td>\n",
       "      <td>Denmark</td>\n",
       "      <td>7.600</td>\n",
       "      <td>1.383</td>\n",
       "      <td>1.573</td>\n",
       "      <td>0.996</td>\n",
       "      <td>0.592</td>\n",
       "      <td>0.252</td>\n",
       "      <td>0.410</td>\n",
       "    </tr>\n",
       "    <tr>\n",
       "      <th>2</th>\n",
       "      <td>3</td>\n",
       "      <td>Norway</td>\n",
       "      <td>7.554</td>\n",
       "      <td>1.488</td>\n",
       "      <td>1.582</td>\n",
       "      <td>1.028</td>\n",
       "      <td>0.603</td>\n",
       "      <td>0.271</td>\n",
       "      <td>0.341</td>\n",
       "    </tr>\n",
       "    <tr>\n",
       "      <th>3</th>\n",
       "      <td>4</td>\n",
       "      <td>Iceland</td>\n",
       "      <td>7.494</td>\n",
       "      <td>1.380</td>\n",
       "      <td>1.624</td>\n",
       "      <td>1.026</td>\n",
       "      <td>0.591</td>\n",
       "      <td>0.354</td>\n",
       "      <td>0.118</td>\n",
       "    </tr>\n",
       "    <tr>\n",
       "      <th>4</th>\n",
       "      <td>5</td>\n",
       "      <td>Netherlands</td>\n",
       "      <td>7.488</td>\n",
       "      <td>1.396</td>\n",
       "      <td>1.522</td>\n",
       "      <td>0.999</td>\n",
       "      <td>0.557</td>\n",
       "      <td>0.322</td>\n",
       "      <td>0.298</td>\n",
       "    </tr>\n",
       "  </tbody>\n",
       "</table>\n",
       "</div>"
      ],
      "text/plain": [
       "   Overall rank Country or region  Score  GDP per capita  Social support  \\\n",
       "0             1           Finland  7.769           1.340           1.587   \n",
       "1             2           Denmark  7.600           1.383           1.573   \n",
       "2             3            Norway  7.554           1.488           1.582   \n",
       "3             4           Iceland  7.494           1.380           1.624   \n",
       "4             5       Netherlands  7.488           1.396           1.522   \n",
       "\n",
       "   Healthy life expectancy  Freedom to make life choices  Generosity  \\\n",
       "0                    0.986                         0.596       0.153   \n",
       "1                    0.996                         0.592       0.252   \n",
       "2                    1.028                         0.603       0.271   \n",
       "3                    1.026                         0.591       0.354   \n",
       "4                    0.999                         0.557       0.322   \n",
       "\n",
       "   Perceptions of corruption  \n",
       "0                      0.393  \n",
       "1                      0.410  \n",
       "2                      0.341  \n",
       "3                      0.118  \n",
       "4                      0.298  "
      ]
     },
     "execution_count": 320,
     "metadata": {},
     "output_type": "execute_result"
    }
   ],
   "source": [
    "df2019.head()"
   ]
  },
  {
   "cell_type": "code",
   "execution_count": 321,
   "metadata": {},
   "outputs": [
    {
     "data": {
      "text/html": [
       "<div>\n",
       "<style scoped>\n",
       "    .dataframe tbody tr th:only-of-type {\n",
       "        vertical-align: middle;\n",
       "    }\n",
       "\n",
       "    .dataframe tbody tr th {\n",
       "        vertical-align: top;\n",
       "    }\n",
       "\n",
       "    .dataframe thead th {\n",
       "        text-align: right;\n",
       "    }\n",
       "</style>\n",
       "<table border=\"1\" class=\"dataframe\">\n",
       "  <thead>\n",
       "    <tr style=\"text-align: right;\">\n",
       "      <th></th>\n",
       "      <th>Country name</th>\n",
       "      <th>Regional indicator</th>\n",
       "      <th>Ladder score</th>\n",
       "      <th>Standard error of ladder score</th>\n",
       "      <th>upperwhisker</th>\n",
       "      <th>lowerwhisker</th>\n",
       "      <th>Logged GDP per capita</th>\n",
       "      <th>Social support</th>\n",
       "      <th>Healthy life expectancy</th>\n",
       "      <th>Freedom to make life choices</th>\n",
       "      <th>Generosity</th>\n",
       "      <th>Perceptions of corruption</th>\n",
       "      <th>Ladder score in Dystopia</th>\n",
       "      <th>Explained by: Log GDP per capita</th>\n",
       "      <th>Explained by: Social support</th>\n",
       "      <th>Explained by: Healthy life expectancy</th>\n",
       "      <th>Explained by: Freedom to make life choices</th>\n",
       "      <th>Explained by: Generosity</th>\n",
       "      <th>Explained by: Perceptions of corruption</th>\n",
       "      <th>Dystopia + residual</th>\n",
       "    </tr>\n",
       "  </thead>\n",
       "  <tbody>\n",
       "    <tr>\n",
       "      <th>0</th>\n",
       "      <td>Finland</td>\n",
       "      <td>Western Europe</td>\n",
       "      <td>7.8087</td>\n",
       "      <td>0.031156</td>\n",
       "      <td>7.869766</td>\n",
       "      <td>7.747634</td>\n",
       "      <td>10.639267</td>\n",
       "      <td>0.954330</td>\n",
       "      <td>71.900825</td>\n",
       "      <td>0.949172</td>\n",
       "      <td>-0.059482</td>\n",
       "      <td>0.195445</td>\n",
       "      <td>1.972317</td>\n",
       "      <td>1.285190</td>\n",
       "      <td>1.499526</td>\n",
       "      <td>0.961271</td>\n",
       "      <td>0.662317</td>\n",
       "      <td>0.159670</td>\n",
       "      <td>0.477857</td>\n",
       "      <td>2.762835</td>\n",
       "    </tr>\n",
       "    <tr>\n",
       "      <th>1</th>\n",
       "      <td>Denmark</td>\n",
       "      <td>Western Europe</td>\n",
       "      <td>7.6456</td>\n",
       "      <td>0.033492</td>\n",
       "      <td>7.711245</td>\n",
       "      <td>7.579955</td>\n",
       "      <td>10.774001</td>\n",
       "      <td>0.955991</td>\n",
       "      <td>72.402504</td>\n",
       "      <td>0.951444</td>\n",
       "      <td>0.066202</td>\n",
       "      <td>0.168489</td>\n",
       "      <td>1.972317</td>\n",
       "      <td>1.326949</td>\n",
       "      <td>1.503449</td>\n",
       "      <td>0.979333</td>\n",
       "      <td>0.665040</td>\n",
       "      <td>0.242793</td>\n",
       "      <td>0.495260</td>\n",
       "      <td>2.432741</td>\n",
       "    </tr>\n",
       "    <tr>\n",
       "      <th>2</th>\n",
       "      <td>Switzerland</td>\n",
       "      <td>Western Europe</td>\n",
       "      <td>7.5599</td>\n",
       "      <td>0.035014</td>\n",
       "      <td>7.628528</td>\n",
       "      <td>7.491272</td>\n",
       "      <td>10.979933</td>\n",
       "      <td>0.942847</td>\n",
       "      <td>74.102448</td>\n",
       "      <td>0.921337</td>\n",
       "      <td>0.105911</td>\n",
       "      <td>0.303728</td>\n",
       "      <td>1.972317</td>\n",
       "      <td>1.390774</td>\n",
       "      <td>1.472403</td>\n",
       "      <td>1.040533</td>\n",
       "      <td>0.628954</td>\n",
       "      <td>0.269056</td>\n",
       "      <td>0.407946</td>\n",
       "      <td>2.350267</td>\n",
       "    </tr>\n",
       "    <tr>\n",
       "      <th>3</th>\n",
       "      <td>Iceland</td>\n",
       "      <td>Western Europe</td>\n",
       "      <td>7.5045</td>\n",
       "      <td>0.059616</td>\n",
       "      <td>7.621347</td>\n",
       "      <td>7.387653</td>\n",
       "      <td>10.772559</td>\n",
       "      <td>0.974670</td>\n",
       "      <td>73.000000</td>\n",
       "      <td>0.948892</td>\n",
       "      <td>0.246944</td>\n",
       "      <td>0.711710</td>\n",
       "      <td>1.972317</td>\n",
       "      <td>1.326502</td>\n",
       "      <td>1.547567</td>\n",
       "      <td>1.000843</td>\n",
       "      <td>0.661981</td>\n",
       "      <td>0.362330</td>\n",
       "      <td>0.144541</td>\n",
       "      <td>2.460688</td>\n",
       "    </tr>\n",
       "    <tr>\n",
       "      <th>4</th>\n",
       "      <td>Norway</td>\n",
       "      <td>Western Europe</td>\n",
       "      <td>7.4880</td>\n",
       "      <td>0.034837</td>\n",
       "      <td>7.556281</td>\n",
       "      <td>7.419719</td>\n",
       "      <td>11.087804</td>\n",
       "      <td>0.952487</td>\n",
       "      <td>73.200783</td>\n",
       "      <td>0.955750</td>\n",
       "      <td>0.134533</td>\n",
       "      <td>0.263218</td>\n",
       "      <td>1.972317</td>\n",
       "      <td>1.424207</td>\n",
       "      <td>1.495173</td>\n",
       "      <td>1.008072</td>\n",
       "      <td>0.670201</td>\n",
       "      <td>0.287985</td>\n",
       "      <td>0.434101</td>\n",
       "      <td>2.168266</td>\n",
       "    </tr>\n",
       "  </tbody>\n",
       "</table>\n",
       "</div>"
      ],
      "text/plain": [
       "  Country name Regional indicator  Ladder score  \\\n",
       "0      Finland     Western Europe        7.8087   \n",
       "1      Denmark     Western Europe        7.6456   \n",
       "2  Switzerland     Western Europe        7.5599   \n",
       "3      Iceland     Western Europe        7.5045   \n",
       "4       Norway     Western Europe        7.4880   \n",
       "\n",
       "   Standard error of ladder score  upperwhisker  lowerwhisker  \\\n",
       "0                        0.031156      7.869766      7.747634   \n",
       "1                        0.033492      7.711245      7.579955   \n",
       "2                        0.035014      7.628528      7.491272   \n",
       "3                        0.059616      7.621347      7.387653   \n",
       "4                        0.034837      7.556281      7.419719   \n",
       "\n",
       "   Logged GDP per capita  Social support  Healthy life expectancy  \\\n",
       "0              10.639267        0.954330                71.900825   \n",
       "1              10.774001        0.955991                72.402504   \n",
       "2              10.979933        0.942847                74.102448   \n",
       "3              10.772559        0.974670                73.000000   \n",
       "4              11.087804        0.952487                73.200783   \n",
       "\n",
       "   Freedom to make life choices  Generosity  Perceptions of corruption  \\\n",
       "0                      0.949172   -0.059482                   0.195445   \n",
       "1                      0.951444    0.066202                   0.168489   \n",
       "2                      0.921337    0.105911                   0.303728   \n",
       "3                      0.948892    0.246944                   0.711710   \n",
       "4                      0.955750    0.134533                   0.263218   \n",
       "\n",
       "   Ladder score in Dystopia  Explained by: Log GDP per capita  \\\n",
       "0                  1.972317                          1.285190   \n",
       "1                  1.972317                          1.326949   \n",
       "2                  1.972317                          1.390774   \n",
       "3                  1.972317                          1.326502   \n",
       "4                  1.972317                          1.424207   \n",
       "\n",
       "   Explained by: Social support  Explained by: Healthy life expectancy  \\\n",
       "0                      1.499526                               0.961271   \n",
       "1                      1.503449                               0.979333   \n",
       "2                      1.472403                               1.040533   \n",
       "3                      1.547567                               1.000843   \n",
       "4                      1.495173                               1.008072   \n",
       "\n",
       "   Explained by: Freedom to make life choices  Explained by: Generosity  \\\n",
       "0                                    0.662317                  0.159670   \n",
       "1                                    0.665040                  0.242793   \n",
       "2                                    0.628954                  0.269056   \n",
       "3                                    0.661981                  0.362330   \n",
       "4                                    0.670201                  0.287985   \n",
       "\n",
       "   Explained by: Perceptions of corruption  Dystopia + residual  \n",
       "0                                 0.477857             2.762835  \n",
       "1                                 0.495260             2.432741  \n",
       "2                                 0.407946             2.350267  \n",
       "3                                 0.144541             2.460688  \n",
       "4                                 0.434101             2.168266  "
      ]
     },
     "execution_count": 321,
     "metadata": {},
     "output_type": "execute_result"
    }
   ],
   "source": [
    "df2020.head()"
   ]
  },
  {
   "cell_type": "code",
   "execution_count": 322,
   "metadata": {
    "scrolled": true
   },
   "outputs": [
    {
     "data": {
      "text/html": [
       "<div>\n",
       "<style scoped>\n",
       "    .dataframe tbody tr th:only-of-type {\n",
       "        vertical-align: middle;\n",
       "    }\n",
       "\n",
       "    .dataframe tbody tr th {\n",
       "        vertical-align: top;\n",
       "    }\n",
       "\n",
       "    .dataframe thead th {\n",
       "        text-align: right;\n",
       "    }\n",
       "</style>\n",
       "<table border=\"1\" class=\"dataframe\">\n",
       "  <thead>\n",
       "    <tr style=\"text-align: right;\">\n",
       "      <th></th>\n",
       "      <th>Country/Region</th>\n",
       "      <th>Confirmed</th>\n",
       "      <th>Deaths</th>\n",
       "      <th>Recovered</th>\n",
       "      <th>Active</th>\n",
       "      <th>New cases</th>\n",
       "      <th>New deaths</th>\n",
       "      <th>New recovered</th>\n",
       "      <th>Deaths / 100 Cases</th>\n",
       "      <th>Recovered / 100 Cases</th>\n",
       "      <th>Deaths / 100 Recovered</th>\n",
       "      <th>Confirmed last week</th>\n",
       "      <th>1 week change</th>\n",
       "      <th>1 week % increase</th>\n",
       "      <th>WHO Region</th>\n",
       "    </tr>\n",
       "  </thead>\n",
       "  <tbody>\n",
       "    <tr>\n",
       "      <th>0</th>\n",
       "      <td>Afghanistan</td>\n",
       "      <td>34455</td>\n",
       "      <td>1012</td>\n",
       "      <td>21254</td>\n",
       "      <td>12189</td>\n",
       "      <td>4</td>\n",
       "      <td>2</td>\n",
       "      <td>38</td>\n",
       "      <td>2.94</td>\n",
       "      <td>61.69</td>\n",
       "      <td>4.76</td>\n",
       "      <td>33190</td>\n",
       "      <td>1265</td>\n",
       "      <td>3.81</td>\n",
       "      <td>Eastern Mediterranean</td>\n",
       "    </tr>\n",
       "    <tr>\n",
       "      <th>1</th>\n",
       "      <td>Albania</td>\n",
       "      <td>3571</td>\n",
       "      <td>95</td>\n",
       "      <td>2014</td>\n",
       "      <td>1462</td>\n",
       "      <td>117</td>\n",
       "      <td>2</td>\n",
       "      <td>68</td>\n",
       "      <td>2.66</td>\n",
       "      <td>56.40</td>\n",
       "      <td>4.72</td>\n",
       "      <td>2964</td>\n",
       "      <td>607</td>\n",
       "      <td>20.48</td>\n",
       "      <td>Europe</td>\n",
       "    </tr>\n",
       "    <tr>\n",
       "      <th>2</th>\n",
       "      <td>Algeria</td>\n",
       "      <td>19689</td>\n",
       "      <td>1018</td>\n",
       "      <td>14019</td>\n",
       "      <td>4652</td>\n",
       "      <td>494</td>\n",
       "      <td>7</td>\n",
       "      <td>276</td>\n",
       "      <td>5.17</td>\n",
       "      <td>71.20</td>\n",
       "      <td>7.26</td>\n",
       "      <td>16404</td>\n",
       "      <td>3285</td>\n",
       "      <td>20.03</td>\n",
       "      <td>Africa</td>\n",
       "    </tr>\n",
       "    <tr>\n",
       "      <th>3</th>\n",
       "      <td>Andorra</td>\n",
       "      <td>858</td>\n",
       "      <td>52</td>\n",
       "      <td>803</td>\n",
       "      <td>3</td>\n",
       "      <td>3</td>\n",
       "      <td>0</td>\n",
       "      <td>0</td>\n",
       "      <td>6.06</td>\n",
       "      <td>93.59</td>\n",
       "      <td>6.48</td>\n",
       "      <td>855</td>\n",
       "      <td>3</td>\n",
       "      <td>0.35</td>\n",
       "      <td>Europe</td>\n",
       "    </tr>\n",
       "    <tr>\n",
       "      <th>4</th>\n",
       "      <td>Angola</td>\n",
       "      <td>525</td>\n",
       "      <td>26</td>\n",
       "      <td>118</td>\n",
       "      <td>381</td>\n",
       "      <td>19</td>\n",
       "      <td>0</td>\n",
       "      <td>0</td>\n",
       "      <td>4.95</td>\n",
       "      <td>22.48</td>\n",
       "      <td>22.03</td>\n",
       "      <td>346</td>\n",
       "      <td>179</td>\n",
       "      <td>51.73</td>\n",
       "      <td>Africa</td>\n",
       "    </tr>\n",
       "  </tbody>\n",
       "</table>\n",
       "</div>"
      ],
      "text/plain": [
       "  Country/Region  Confirmed  Deaths  Recovered  Active  New cases  New deaths  \\\n",
       "0    Afghanistan      34455    1012      21254   12189          4           2   \n",
       "1        Albania       3571      95       2014    1462        117           2   \n",
       "2        Algeria      19689    1018      14019    4652        494           7   \n",
       "3        Andorra        858      52        803       3          3           0   \n",
       "4         Angola        525      26        118     381         19           0   \n",
       "\n",
       "   New recovered  Deaths / 100 Cases  Recovered / 100 Cases  \\\n",
       "0             38                2.94                  61.69   \n",
       "1             68                2.66                  56.40   \n",
       "2            276                5.17                  71.20   \n",
       "3              0                6.06                  93.59   \n",
       "4              0                4.95                  22.48   \n",
       "\n",
       "   Deaths / 100 Recovered  Confirmed last week  1 week change  \\\n",
       "0                    4.76                33190           1265   \n",
       "1                    4.72                 2964            607   \n",
       "2                    7.26                16404           3285   \n",
       "3                    6.48                  855              3   \n",
       "4                   22.03                  346            179   \n",
       "\n",
       "   1 week % increase             WHO Region  \n",
       "0               3.81  Eastern Mediterranean  \n",
       "1              20.48                 Europe  \n",
       "2              20.03                 Africa  \n",
       "3               0.35                 Europe  \n",
       "4              51.73                 Africa  "
      ]
     },
     "execution_count": 322,
     "metadata": {},
     "output_type": "execute_result"
    }
   ],
   "source": [
    "covid.head()"
   ]
  },
  {
   "cell_type": "code",
   "execution_count": 323,
   "metadata": {},
   "outputs": [],
   "source": [
    "# I see that in the datasets of 2018 and 2019 I have Overall rank, with I dont need\n",
    "# as it shows the same information as Score. So I remove 'Overall rank' columns:\n",
    " \n",
    "df2018=df2018.drop(columns=['Overall rank'])\n",
    "df2019=df2019.drop(columns=['Overall rank'])"
   ]
  },
  {
   "cell_type": "code",
   "execution_count": 324,
   "metadata": {},
   "outputs": [],
   "source": [
    "# I also see that 3 datasets have different names for the same Values, so I make them similar for suitability to use.\n",
    "\n",
    "df2020.rename(columns = {'Ladder score': 'Score', 'Country name': 'Country', 'Logged GDP per capita':'GDP per capita'}, inplace=True)\n",
    "df2018.rename(columns = {'Country or region': 'Country'}, inplace=True)\n",
    "df2019.rename(columns = {'Country or region': 'Country'}, inplace=True)\n",
    "covid.rename(columns = {'Country/Region': 'Country'}, inplace=True)\n"
   ]
  },
  {
   "cell_type": "code",
   "execution_count": 325,
   "metadata": {},
   "outputs": [],
   "source": [
    "# I saw that 2020 Happiness dataset has more columns than those of 2018 and 2019. So from data of 2020 I choose \n",
    "# only columns that also existed in 2018, so that datasets have the same structure and are easier to use together.\n",
    "\n",
    "df2020=df2020[df2018.columns]\n",
    "\n",
    "# I create a list of Dataframes so that I can process them easily together in a loop in the next steps.\n",
    "df=[df2018,df2019,df2020,covid]\n",
    "\n",
    "# I set name of country as an index for all the Happiness datasets, so that I have only quantitative values\n",
    "# in columns, they are harmonised and I can easily access values for different countries by index.\n",
    "\n",
    "for i in range(4):\n",
    "    df[i].set_index('Country', inplace=True)\n"
   ]
  },
  {
   "cell_type": "code",
   "execution_count": 326,
   "metadata": {},
   "outputs": [
    {
     "data": {
      "image/png": "[encoded data removed]",
      "text/plain": [
       "<Figure size 432x288 with 1 Axes>"
      ]
     },
     "metadata": {
      "needs_background": "light"
     },
     "output_type": "display_data"
    },
    {
     "data": {
      "image/png": "[encoded data removed]",
      "text/plain": [
       "<Figure size 432x288 with 1 Axes>"
      ]
     },
     "metadata": {
      "needs_background": "light"
     },
     "output_type": "display_data"
    },
    {
     "data": {
      "image/png": "[encoded data removed]",
      "text/plain": [
       "<Figure size 432x288 with 1 Axes>"
      ]
     },
     "metadata": {
      "needs_background": "light"
     },
     "output_type": "display_data"
    }
   ],
   "source": [
    "# I draw plots of 10 countries with the highest Happiness rate for each year to answer my first question.\n",
    "\n",
    "year=[2018,2019,2020]\n",
    "for i in range(3):\n",
    "    j=df[i].sort_values(by=['Score'], ascending=False).iloc[:10]\n",
    "    j[['Score']].plot(kind=\"bar\", title=year[i])\n"
   ]
  },
  {
   "cell_type": "markdown",
   "metadata": {},
   "source": [
    "**Answer to question 1:**\n",
    "\n",
    "If you live in Finland, you have the most chance to be happy! It stays on the first place for all three years!\n",
    "Almost all of other countries (8 from 9) are also stay in the first 10 countries by happiness during all 3 years. They are: Denmark, Swirzerland, Iceland, Norway, Netherlands, Sweden New Zealand and Austria."
   ]
  },
  {
   "cell_type": "code",
   "execution_count": 327,
   "metadata": {},
   "outputs": [
    {
     "data": {
      "image/png": "[encoded data removed]",
      "text/plain": [
       "<Figure size 432x288 with 1 Axes>"
      ]
     },
     "metadata": {
      "needs_background": "light"
     },
     "output_type": "display_data"
    },
    {
     "data": {
      "image/png": "[encoded data removed]",
      "text/plain": [
       "<Figure size 432x288 with 1 Axes>"
      ]
     },
     "metadata": {
      "needs_background": "light"
     },
     "output_type": "display_data"
    }
   ],
   "source": [
    "# Now I would like to look at the development of Happiness score over 3 years. Did people got more happy over 3 years?\n",
    "# Or may be latest corona situation in 2020 made them less happy?\n",
    "\n",
    "desc=pd.DataFrame({'2018': pd.Series(df2018['Score'].describe(), index=df2018[['Score']].describe().index),\n",
    "                   '2019': +pd.Series(df2019['Score'].describe(), index=df2019[['Score']].describe().index),\n",
    "                  '2020': +pd.Series(df2020['Score'].describe(), index=df2020[['Score']].describe().index)})\n",
    "desc.T.iloc[:, [1,3,4, 5, 6, 7]].plot(kind=\"line\", title='Progress', grid=True);\n",
    "desc.T.iloc[:, [2]].plot(kind=\"line\", title='Standard deviation', grid=True);"
   ]
  },
  {
   "cell_type": "markdown",
   "metadata": {},
   "source": [
    "**Answer to the question 2:**\n",
    "\n",
    "it looks like the score is quite stable over 3 years (looking at constant, a little bit growing mean and slightly falling standard deviation) and even growing a little bit (looking at slightly growing mean, 25%, 75% and max values)."
   ]
  },
  {
   "cell_type": "code",
   "execution_count": 328,
   "metadata": {},
   "outputs": [
    {
     "name": "stdout",
     "output_type": "stream",
     "text": [
      "2018                      Score  GDP per capita  Social support  \\\n",
      "Country                                                       \n",
      "United Arab Emirates  6.774           2.096           0.776   \n",
      "\n",
      "                      Healthy life expectancy  Freedom to make life choices  \\\n",
      "Country                                                                       \n",
      "United Arab Emirates                     0.67                         0.284   \n",
      "\n",
      "                      Generosity  Perceptions of corruption  \n",
      "Country                                                      \n",
      "United Arab Emirates       0.186                        NaN  \n",
      "2019Empty DataFrame\n",
      "Columns: [Score, GDP per capita, Social support, Healthy life expectancy, Freedom to make life choices, Generosity, Perceptions of corruption]\n",
      "Index: []\n",
      "2020Empty DataFrame\n",
      "Columns: [Score, GDP per capita, Social support, Healthy life expectancy, Freedom to make life choices, Generosity, Perceptions of corruption]\n",
      "Index: []\n"
     ]
    }
   ],
   "source": [
    "# Now I would like to start modelling estimation of which factors do influence Happiness score. I will first clean \n",
    "# the data to do that. \n",
    "# I exchange NaN Values in quantitative values with mean of the columns\n",
    "\n",
    "fill_mean = lambda col: col.fillna(col.mean())\n",
    "df2018.select_dtypes(include=['float', 'int']).apply(fill_mean, axis=0)\n",
    "df2019.select_dtypes(include=['float', 'int']).apply(fill_mean, axis=0)\n",
    "df2020.select_dtypes(include=['float', 'int']).apply(fill_mean, axis=0)\n",
    "\n",
    "#I check if some NaN values left\n",
    "print(str(2018) + str(df2018[df2018.isna().any(axis=1)]))\n",
    "print(str(2019) + str(df2019[df2019.isna().any(axis=1)]))\n",
    "print(str(2020) + str(df2020[df2020.isna().any(axis=1)]))"
   ]
  },
  {
   "cell_type": "code",
   "execution_count": 329,
   "metadata": {},
   "outputs": [],
   "source": [
    "# As there is only one value, I am going to remove the row from all the data sets.\n",
    "\n",
    "df2018.drop('United Arab Emirates', axis=0, inplace=True)\n",
    "df2019.drop('United Arab Emirates', axis=0, inplace=True)\n",
    "df2020.drop('United Arab Emirates', axis=0, inplace=True)"
   ]
  },
  {
   "cell_type": "code",
   "execution_count": 330,
   "metadata": {},
   "outputs": [
    {
     "data": {
      "image/png": "[encoded data removed]",
      "text/plain": [
       "<Figure size 432x288 with 2 Axes>"
      ]
     },
     "metadata": {
      "needs_background": "light"
     },
     "output_type": "display_data"
    }
   ],
   "source": [
    "# I draw a correlation map for all the values in the dataset to see what do happiness score mostly depends on:\n",
    "\n",
    "sns.heatmap(df2018[['Score', 'GDP per capita', 'Social support',\n",
    "                    'Healthy life expectancy','Freedom to make life choices', 'Generosity']].corr(), annot=True); \n"
   ]
  },
  {
   "cell_type": "code",
   "execution_count": 210,
   "metadata": {},
   "outputs": [
    {
     "data": {
      "image/png": "[encoded data removed]",
      "text/plain": [
       "<Figure size 432x288 with 2 Axes>"
      ]
     },
     "metadata": {
      "needs_background": "light"
     },
     "output_type": "display_data"
    }
   ],
   "source": [
    "sns.heatmap(df2019[['Score', 'GDP per capita', 'Social support',\n",
    "                    'Healthy life expectancy','Freedom to make life choices', 'Generosity']].corr(), annot=True); "
   ]
  },
  {
   "cell_type": "code",
   "execution_count": 211,
   "metadata": {},
   "outputs": [
    {
     "data": {
      "image/png": "[encoded data removed]",
      "text/plain": [
       "<Figure size 432x288 with 2 Axes>"
      ]
     },
     "metadata": {
      "needs_background": "light"
     },
     "output_type": "display_data"
    }
   ],
   "source": [
    "sns.heatmap(df2020[['Score', 'GDP per capita', 'Social support','Healthy life expectancy',\n",
    "                    'Freedom to make life choices', 'Generosity']].corr(), annot=True); "
   ]
  },
  {
   "cell_type": "markdown",
   "metadata": {},
   "source": [
    "**Answer to question 3:**\n",
    "\n",
    "*From the results of the correlation I can see the sequence of the main factors that happiness depends on:*\n",
    "\n",
    "1) the highest correlation it has with GDP per capita, Social support and Healthy life expectancy which stays stable on the first place for 3 years \\\n",
    "2) what is also interesting to mention is that this three variables are also have high correlation to each other: countries with higher GDP provide also higher social support and as a result probably people have higher healthy life expectancy.\\\n",
    "3) the third thing worth to mention is that social support correlation with GDP per capita and Healthy life expectancy is constantly growing from 2018 to 2020. May be corona presented itself and made people more sensitive to their health and to the presence of social support?\\\n",
    "4) Things like Freedom to make life choises and Generosity seem to have much less influence on Happiness of people, based on our datasets.\n",
    "\n",
    "In the next steps I would like to check how good can these factors predict Happiness.\n",
    "\n"
   ]
  },
  {
   "cell_type": "code",
   "execution_count": 331,
   "metadata": {},
   "outputs": [],
   "source": [
    "# Here I create function that predicts 'Score' by means of linear regression,\n",
    "# so that I can use it afterwards for different datasets.\n",
    "\n",
    "def modelling(df, response):\n",
    "\n",
    "    X = df\n",
    "    y = response\n",
    "    \n",
    "    X_train, X_test, y_train, y_test = train_test_split(X, y, test_size = .30, random_state=42)\n",
    "\n",
    "    lm_model = LinearRegression(normalize=True) \n",
    "    lm_model.fit(X_train, y_train)\n",
    "\n",
    "    y_test_preds = lm_model.predict(X_test)\n",
    "\n",
    "    r2_test = r2_score(y_test, y_test_preds)\n",
    "\n",
    "    return r2_test\n"
   ]
  },
  {
   "cell_type": "code",
   "execution_count": 332,
   "metadata": {},
   "outputs": [
    {
     "name": "stdout",
     "output_type": "stream",
     "text": [
      "Explaining Happiness in 2018 by tree factors: 0.7570601107838264\n",
      "Explaining Happiness in 2019 by tree factors: 0.726575960969216\n",
      "Explaining Happiness in 2020 by tree factors: 0.7002248079396018\n",
      "\n",
      "\n",
      "Explaining Happines in 2018 by GDP per capita: 0.6302023041778084\n",
      "Explaining Happines in 2019 by GDP per capita: 0.624323951148996\n",
      "Explaining Happines in 2020 by GDP per capita: 0.6825214915898445\n",
      "\n",
      "\n",
      "Explaining Happines in 2018 by Social support: 0.5849761274348386\n",
      "Explaining Happines in 2019 by Social support: 0.48713094740994\n",
      "Explaining Happines in 2020 by Social support: 0.6836707265187287\n",
      "\n",
      "\n",
      "Explaining Happines in 2018 by Healthy life expectancy: 0.6451222468961614\n",
      "Explaining Happines in 2019 by Healthy life expectancy: 0.6549307732153276\n",
      "Explaining Happines in 2020 by Healthy life expectancy: 0.5661834039434861\n"
     ]
    }
   ],
   "source": [
    "# In this part I look how good can three main factors together (with high correlation with Score) and one by one\n",
    "# explain Happiness rate.\n",
    "\n",
    "year=[2018,2019,2020]\n",
    "df=[df2018,df2019,df2020]\n",
    "\n",
    "exs=['GDP per capita','Social support','Healthy life expectancy']\n",
    "for i in range(3):\n",
    "    print((\"Explaining Happiness in {} by tree factors: \" + \n",
    "           str(modelling(df[i][['GDP per capita','Social support','Healthy life expectancy']], df[i]['Score']))).format(year[i]))\n",
    "    \n",
    "for j in range(3):\n",
    "    print(\"\\n\")\n",
    "    for i in range(3):\n",
    "        print((\"Explaining Happines in {} by {}: \" + str(modelling(df[i][[exs[j]]], df[i]['Score'])))\n",
    "          .format(year[i], exs[j]))"
   ]
  },
  {
   "cell_type": "markdown",
   "metadata": {},
   "source": [
    "Looking at the results we can conclude that all the factors can explain Happiness score quite good, as all of the r2 values are quite high over all the 3 years."
   ]
  },
  {
   "cell_type": "code",
   "execution_count": 333,
   "metadata": {},
   "outputs": [
    {
     "name": "stdout",
     "output_type": "stream",
     "text": [
      "Explaining Happiness in 2018 by tree factors: 0.7918052778744269\n",
      "Explaining Happiness in 2019 by tree factors: 0.7749181770096631\n",
      "Explaining Happiness in 2020 by tree factors: 0.6792093043224678\n",
      "\n",
      "\n",
      "Explaining Happines in 2018 by GDP per capita: 0.6302023041778084\n",
      "Explaining Happines in 2019 by GDP per capita: 0.624323951148996\n",
      "Explaining Happines in 2020 by GDP per capita: 0.6825214915898445\n",
      "\n",
      "\n",
      "Explaining Happines in 2018 by Social support: 0.5849761274348386\n",
      "Explaining Happines in 2019 by Social support: 0.48713094740994\n",
      "Explaining Happines in 2020 by Social support: 0.6836707265187287\n",
      "\n",
      "\n",
      "Explaining Happines in 2018 by Healthy life expectancy: 0.6451222468961614\n",
      "Explaining Happines in 2019 by Healthy life expectancy: 0.6549307732153276\n",
      "Explaining Happines in 2020 by Healthy life expectancy: 0.5661834039434861\n",
      "\n",
      "\n",
      "Explaining Happines in 2018 by Freedom to make life choices: 0.028455683613530014\n",
      "Explaining Happines in 2019 by Freedom to make life choices: 0.2565671171697609\n",
      "Explaining Happines in 2020 by Freedom to make life choices: 0.3462687000306307\n",
      "\n",
      "\n",
      "Explaining Happines in 2018 by Generosity: -0.021611151964660236\n",
      "Explaining Happines in 2019 by Generosity: -0.057011002199148564\n",
      "Explaining Happines in 2020 by Generosity: -0.04795557998679678\n",
      "\n",
      "\n",
      "Explaining Happines in 2018 by Perceptions of corruption: 0.12193834376700019\n",
      "Explaining Happines in 2019 by Perceptions of corruption: -0.028645023263925484\n",
      "Explaining Happines in 2020 by Perceptions of corruption: -0.001754657778863855\n"
     ]
    }
   ],
   "source": [
    "#Now I would like to check it I would use all the factors, if it could explain the Score significantly better?\n",
    "\n",
    "year=[2018,2019,2020]\n",
    "df=[df2018,df2019,df2020]\n",
    "\n",
    "exs=df2018.drop('Score', axis=1).columns\n",
    "\n",
    "for i in range(3):\n",
    "    print((\"Explaining Happiness in {} by tree factors: \" + \n",
    "           str(modelling(df[i][list(exs)], df[i]['Score']))).format(year[i]))\n",
    "    \n",
    "for j in range(len(exs)):\n",
    "    print(\"\\n\")\n",
    "    for i in range(3):\n",
    "        print((\"Explaining Happines in {} by {}: \" + str(modelling(df[i][[exs[j]]], df[i]['Score'])))\n",
    "          .format(year[i], exs[j]))"
   ]
  },
  {
   "cell_type": "markdown",
   "metadata": {},
   "source": [
    "Looknig at the rest factors, we can see, as expected that they do not contribute significantly to the explanation of the Happiness rate."
   ]
  },
  {
   "cell_type": "code",
   "execution_count": 334,
   "metadata": {},
   "outputs": [
    {
     "data": {
      "text/plain": [
       "(152, 8)"
      ]
     },
     "execution_count": 334,
     "metadata": {},
     "output_type": "execute_result"
    }
   ],
   "source": [
    "# Now I would like to look at the influence of Corona at Happiness score.\n",
    "# I create a new data set with data from Happiness dataset of 2020 and values of confirmed COVID-19 cases in 2020.\n",
    "\n",
    "newdf2020 = pd.concat([df2020, covid['Confirmed']], axis=1)\n",
    "newdf2020=newdf2020.dropna(subset=['Score'], axis=0)\n"
   ]
  },
  {
   "cell_type": "code",
   "execution_count": 335,
   "metadata": {},
   "outputs": [
    {
     "data": {
      "text/plain": [
       "Score                            0\n",
       "GDP per capita                   0\n",
       "Social support                   0\n",
       "Healthy life expectancy          0\n",
       "Freedom to make life choices     0\n",
       "Generosity                       0\n",
       "Perceptions of corruption        0\n",
       "Confirmed                       11\n",
       "dtype: int64"
      ]
     },
     "execution_count": 335,
     "metadata": {},
     "output_type": "execute_result"
    }
   ],
   "source": [
    "# Now I need to clean the data.\n",
    "# Here I check if there are some Nan values in the new added column\n",
    "newdf2020.isna().sum()"
   ]
  },
  {
   "cell_type": "code",
   "execution_count": 336,
   "metadata": {},
   "outputs": [
    {
     "data": {
      "text/html": [
       "<div>\n",
       "<style scoped>\n",
       "    .dataframe tbody tr th:only-of-type {\n",
       "        vertical-align: middle;\n",
       "    }\n",
       "\n",
       "    .dataframe tbody tr th {\n",
       "        vertical-align: top;\n",
       "    }\n",
       "\n",
       "    .dataframe thead th {\n",
       "        text-align: right;\n",
       "    }\n",
       "</style>\n",
       "<table border=\"1\" class=\"dataframe\">\n",
       "  <thead>\n",
       "    <tr style=\"text-align: right;\">\n",
       "      <th></th>\n",
       "      <th>Score</th>\n",
       "      <th>GDP per capita</th>\n",
       "      <th>Social support</th>\n",
       "      <th>Healthy life expectancy</th>\n",
       "      <th>Freedom to make life choices</th>\n",
       "      <th>Generosity</th>\n",
       "      <th>Perceptions of corruption</th>\n",
       "      <th>Confirmed</th>\n",
       "    </tr>\n",
       "  </thead>\n",
       "  <tbody>\n",
       "    <tr>\n",
       "      <th>United States</th>\n",
       "      <td>6.9396</td>\n",
       "      <td>10.925769</td>\n",
       "      <td>0.914219</td>\n",
       "      <td>68.299500</td>\n",
       "      <td>0.842620</td>\n",
       "      <td>0.149892</td>\n",
       "      <td>0.699715</td>\n",
       "      <td>NaN</td>\n",
       "    </tr>\n",
       "    <tr>\n",
       "      <th>Czech Republic</th>\n",
       "      <td>6.9109</td>\n",
       "      <td>10.404163</td>\n",
       "      <td>0.914431</td>\n",
       "      <td>70.047935</td>\n",
       "      <td>0.818537</td>\n",
       "      <td>-0.230862</td>\n",
       "      <td>0.858446</td>\n",
       "      <td>NaN</td>\n",
       "    </tr>\n",
       "    <tr>\n",
       "      <th>Taiwan Province of China</th>\n",
       "      <td>6.4554</td>\n",
       "      <td>10.775685</td>\n",
       "      <td>0.894309</td>\n",
       "      <td>69.599998</td>\n",
       "      <td>0.771530</td>\n",
       "      <td>-0.073199</td>\n",
       "      <td>0.731883</td>\n",
       "      <td>NaN</td>\n",
       "    </tr>\n",
       "    <tr>\n",
       "      <th>North Cyprus</th>\n",
       "      <td>5.5355</td>\n",
       "      <td>10.405703</td>\n",
       "      <td>0.820357</td>\n",
       "      <td>73.702225</td>\n",
       "      <td>0.795294</td>\n",
       "      <td>0.000227</td>\n",
       "      <td>0.626116</td>\n",
       "      <td>NaN</td>\n",
       "    </tr>\n",
       "    <tr>\n",
       "      <th>Hong Kong S.A.R. of China</th>\n",
       "      <td>5.5104</td>\n",
       "      <td>10.934671</td>\n",
       "      <td>0.845969</td>\n",
       "      <td>76.771706</td>\n",
       "      <td>0.779834</td>\n",
       "      <td>0.134980</td>\n",
       "      <td>0.420607</td>\n",
       "      <td>NaN</td>\n",
       "    </tr>\n",
       "    <tr>\n",
       "      <th>Ivory Coast</th>\n",
       "      <td>5.2333</td>\n",
       "      <td>8.225561</td>\n",
       "      <td>0.658049</td>\n",
       "      <td>49.503773</td>\n",
       "      <td>0.727909</td>\n",
       "      <td>-0.043991</td>\n",
       "      <td>0.790772</td>\n",
       "      <td>NaN</td>\n",
       "    </tr>\n",
       "    <tr>\n",
       "      <th>Macedonia</th>\n",
       "      <td>5.1598</td>\n",
       "      <td>9.510592</td>\n",
       "      <td>0.820392</td>\n",
       "      <td>67.504425</td>\n",
       "      <td>0.738841</td>\n",
       "      <td>-0.019877</td>\n",
       "      <td>0.897491</td>\n",
       "      <td>NaN</td>\n",
       "    </tr>\n",
       "    <tr>\n",
       "      <th>Turkmenistan</th>\n",
       "      <td>5.1191</td>\n",
       "      <td>9.748033</td>\n",
       "      <td>0.958966</td>\n",
       "      <td>62.211708</td>\n",
       "      <td>0.826457</td>\n",
       "      <td>0.187672</td>\n",
       "      <td>0.883692</td>\n",
       "      <td>NaN</td>\n",
       "    </tr>\n",
       "    <tr>\n",
       "      <th>Palestinian Territories</th>\n",
       "      <td>4.5528</td>\n",
       "      <td>8.389223</td>\n",
       "      <td>0.825296</td>\n",
       "      <td>62.250000</td>\n",
       "      <td>0.645792</td>\n",
       "      <td>-0.162079</td>\n",
       "      <td>0.824200</td>\n",
       "      <td>NaN</td>\n",
       "    </tr>\n",
       "    <tr>\n",
       "      <th>Swaziland</th>\n",
       "      <td>4.3081</td>\n",
       "      <td>9.162674</td>\n",
       "      <td>0.770290</td>\n",
       "      <td>51.188236</td>\n",
       "      <td>0.646822</td>\n",
       "      <td>-0.199201</td>\n",
       "      <td>0.708263</td>\n",
       "      <td>NaN</td>\n",
       "    </tr>\n",
       "    <tr>\n",
       "      <th>Myanmar</th>\n",
       "      <td>4.3080</td>\n",
       "      <td>8.680482</td>\n",
       "      <td>0.784407</td>\n",
       "      <td>58.961712</td>\n",
       "      <td>0.895075</td>\n",
       "      <td>0.560664</td>\n",
       "      <td>0.645124</td>\n",
       "      <td>NaN</td>\n",
       "    </tr>\n",
       "  </tbody>\n",
       "</table>\n",
       "</div>"
      ],
      "text/plain": [
       "                            Score  GDP per capita  Social support  \\\n",
       "United States              6.9396       10.925769        0.914219   \n",
       "Czech Republic             6.9109       10.404163        0.914431   \n",
       "Taiwan Province of China   6.4554       10.775685        0.894309   \n",
       "North Cyprus               5.5355       10.405703        0.820357   \n",
       "Hong Kong S.A.R. of China  5.5104       10.934671        0.845969   \n",
       "Ivory Coast                5.2333        8.225561        0.658049   \n",
       "Macedonia                  5.1598        9.510592        0.820392   \n",
       "Turkmenistan               5.1191        9.748033        0.958966   \n",
       "Palestinian Territories    4.5528        8.389223        0.825296   \n",
       "Swaziland                  4.3081        9.162674        0.770290   \n",
       "Myanmar                    4.3080        8.680482        0.784407   \n",
       "\n",
       "                           Healthy life expectancy  \\\n",
       "United States                            68.299500   \n",
       "Czech Republic                           70.047935   \n",
       "Taiwan Province of China                 69.599998   \n",
       "North Cyprus                             73.702225   \n",
       "Hong Kong S.A.R. of China                76.771706   \n",
       "Ivory Coast                              49.503773   \n",
       "Macedonia                                67.504425   \n",
       "Turkmenistan                             62.211708   \n",
       "Palestinian Territories                  62.250000   \n",
       "Swaziland                                51.188236   \n",
       "Myanmar                                  58.961712   \n",
       "\n",
       "                           Freedom to make life choices  Generosity  \\\n",
       "United States                                  0.842620    0.149892   \n",
       "Czech Republic                                 0.818537   -0.230862   \n",
       "Taiwan Province of China                       0.771530   -0.073199   \n",
       "North Cyprus                                   0.795294    0.000227   \n",
       "Hong Kong S.A.R. of China                      0.779834    0.134980   \n",
       "Ivory Coast                                    0.727909   -0.043991   \n",
       "Macedonia                                      0.738841   -0.019877   \n",
       "Turkmenistan                                   0.826457    0.187672   \n",
       "Palestinian Territories                        0.645792   -0.162079   \n",
       "Swaziland                                      0.646822   -0.199201   \n",
       "Myanmar                                        0.895075    0.560664   \n",
       "\n",
       "                           Perceptions of corruption  Confirmed  \n",
       "United States                               0.699715        NaN  \n",
       "Czech Republic                              0.858446        NaN  \n",
       "Taiwan Province of China                    0.731883        NaN  \n",
       "North Cyprus                                0.626116        NaN  \n",
       "Hong Kong S.A.R. of China                   0.420607        NaN  \n",
       "Ivory Coast                                 0.790772        NaN  \n",
       "Macedonia                                   0.897491        NaN  \n",
       "Turkmenistan                                0.883692        NaN  \n",
       "Palestinian Territories                     0.824200        NaN  \n",
       "Swaziland                                   0.708263        NaN  \n",
       "Myanmar                                     0.645124        NaN  "
      ]
     },
     "execution_count": 336,
     "metadata": {},
     "output_type": "execute_result"
    }
   ],
   "source": [
    "# As there are 11 Nan values, I want to look at them more closely\n",
    "newdf2020[newdf2020.isna().any(axis=1)]"
   ]
  },
  {
   "cell_type": "code",
   "execution_count": 337,
   "metadata": {},
   "outputs": [
    {
     "data": {
      "text/plain": [
       "Score                           6.939600e+00\n",
       "GDP per capita                  1.092577e+01\n",
       "Social support                  9.142190e-01\n",
       "Healthy life expectancy         6.829950e+01\n",
       "Freedom to make life choices    8.426195e-01\n",
       "Generosity                      1.498917e-01\n",
       "Perceptions of corruption       6.997153e-01\n",
       "Confirmed                       3.286063e+06\n",
       "Name: United States, dtype: float64"
      ]
     },
     "execution_count": 337,
     "metadata": {},
     "output_type": "execute_result"
    }
   ],
   "source": [
    "# As I know it from the news, some of the countries  actually have quite high number of confirmed cases (USA),\n",
    "# so I search for the missing values in the Internet (WHO values of today from the webseite https://covid19.who.int/).\n",
    "# I found the values for the following countries: United States, Czech Republic, Ivory Coast, Macedonia, Turkmenistan,\n",
    "# Myanmar. I am goint to replace them manually.\n",
    "\n",
    "newdf2020.at['United States', 'Confirmed'] =3286063\n",
    "newdf2020.at['Czech Republic', 'Confirmed']=13174\n",
    "newdf2020.at['Ivory Coast', 'Confirmed']=12766\n",
    "newdf2020.at['Macedonia', 'Confirmed']=8111\n",
    "newdf2020.at['Turkmenistan', 'Confirmed']=0\n",
    "newdf2020.at['Myanmar', 'Confirmed']=336\n",
    "\n",
    "# Here I check that it worked on example of USA:\n",
    "newdf2020.loc['United States']\n"
   ]
  },
  {
   "cell_type": "code",
   "execution_count": 338,
   "metadata": {},
   "outputs": [
    {
     "data": {
      "text/html": [
       "<div>\n",
       "<style scoped>\n",
       "    .dataframe tbody tr th:only-of-type {\n",
       "        vertical-align: middle;\n",
       "    }\n",
       "\n",
       "    .dataframe tbody tr th {\n",
       "        vertical-align: top;\n",
       "    }\n",
       "\n",
       "    .dataframe thead th {\n",
       "        text-align: right;\n",
       "    }\n",
       "</style>\n",
       "<table border=\"1\" class=\"dataframe\">\n",
       "  <thead>\n",
       "    <tr style=\"text-align: right;\">\n",
       "      <th></th>\n",
       "      <th>Score</th>\n",
       "      <th>GDP per capita</th>\n",
       "      <th>Social support</th>\n",
       "      <th>Healthy life expectancy</th>\n",
       "      <th>Freedom to make life choices</th>\n",
       "      <th>Generosity</th>\n",
       "      <th>Perceptions of corruption</th>\n",
       "      <th>Confirmed</th>\n",
       "    </tr>\n",
       "  </thead>\n",
       "  <tbody>\n",
       "    <tr>\n",
       "      <th>Cyprus</th>\n",
       "      <td>6.1590</td>\n",
       "      <td>10.405703</td>\n",
       "      <td>0.805996</td>\n",
       "      <td>73.702225</td>\n",
       "      <td>0.779858</td>\n",
       "      <td>0.043731</td>\n",
       "      <td>0.856272</td>\n",
       "      <td>1022.0</td>\n",
       "    </tr>\n",
       "    <tr>\n",
       "      <th>North Cyprus</th>\n",
       "      <td>5.5355</td>\n",
       "      <td>10.405703</td>\n",
       "      <td>0.820357</td>\n",
       "      <td>73.702225</td>\n",
       "      <td>0.795294</td>\n",
       "      <td>0.000227</td>\n",
       "      <td>0.626116</td>\n",
       "      <td>NaN</td>\n",
       "    </tr>\n",
       "  </tbody>\n",
       "</table>\n",
       "</div>"
      ],
      "text/plain": [
       "               Score  GDP per capita  Social support  Healthy life expectancy  \\\n",
       "Cyprus        6.1590       10.405703        0.805996                73.702225   \n",
       "North Cyprus  5.5355       10.405703        0.820357                73.702225   \n",
       "\n",
       "              Freedom to make life choices  Generosity  \\\n",
       "Cyprus                            0.779858    0.043731   \n",
       "North Cyprus                      0.795294    0.000227   \n",
       "\n",
       "              Perceptions of corruption  Confirmed  \n",
       "Cyprus                         0.856272     1022.0  \n",
       "North Cyprus                   0.626116        NaN  "
      ]
     },
     "execution_count": 338,
     "metadata": {},
     "output_type": "execute_result"
    }
   ],
   "source": [
    "# I check if there is another value for Cyprus, and if so, I delete this one\n",
    "newdf2020[newdf2020.index.str.contains(\"Cyprus\")]"
   ]
  },
  {
   "cell_type": "code",
   "execution_count": 221,
   "metadata": {},
   "outputs": [],
   "source": [
    "# There is no information about confirmed cases in Hong Kong, Taiwan, Palestinian Territories,\n",
    "#Swaziland and North Cyprus. \n",
    "#I drop rows with Nan values for Confirmed, as they dont give me more information for my model\n",
    "\n",
    "newdf2020.drop(['Hong Kong S.A.R. of China', 'Taiwan Province of China', 'Palestinian Territories', 'Swaziland', 'North Cyprus'], inplace=True)"
   ]
  },
  {
   "cell_type": "code",
   "execution_count": 222,
   "metadata": {},
   "outputs": [
    {
     "data": {
      "image/png": "[encoded data removed]",
      "text/plain": [
       "<Figure size 432x288 with 2 Axes>"
      ]
     },
     "metadata": {
      "needs_background": "light"
     },
     "output_type": "display_data"
    }
   ],
   "source": [
    "# Now I would like to look at the correlation map, now with corona cases included.\n",
    "\n",
    "sns.heatmap(newdf2020[['Score', 'GDP per capita', 'Social support','Healthy life expectancy','Confirmed']].corr(), annot=True); "
   ]
  },
  {
   "cell_type": "code",
   "execution_count": 223,
   "metadata": {},
   "outputs": [
    {
     "name": "stdout",
     "output_type": "stream",
     "text": [
      "Explaining Happines in 2020 by 'Confirmed': 0.02836177265176565\n"
     ]
    }
   ],
   "source": [
    "print((\"Explaining Happines in 2020 by 'Confirmed': \" + str(modelling(newdf2020[['Confirmed']],\n",
    "                                                                      newdf2020['Score']))))"
   ]
  },
  {
   "cell_type": "markdown",
   "metadata": {},
   "source": [
    "**Answer to question 4:**\n",
    "\n",
    "Corona doesnt have much influence on the explanation of Happiness, as it has quite low value of r2. Looking at the corelation indeces I could conclude, that there are a little bit more corona cases in countries with higher GDP per capita values and probably that is why it has higher correlation with Happiness score, as Happiness score and GDP per capita have high correlation between each other.\n",
    "So the answer is: no, corona doesnt have significant influence on the Happiness score."
   ]
  },
  {
   "cell_type": "code",
   "execution_count": null,
   "metadata": {},
   "outputs": [],
   "source": []
  }
 ],
 "metadata": {
  "kernelspec": {
   "display_name": "Python 3",
   "language": "python",
   "name": "python3"
  },
  "language_info": {
   "codemirror_mode": {
    "name": "ipython",
    "version": 3
   },
   "file_extension": ".py",
   "mimetype": "text/x-python",
   "name": "python",
   "nbconvert_exporter": "python",
   "pygments_lexer": "ipython3",
   "version": "3.7.6"
  }
 },
 "nbformat": 4,
 "nbformat_minor": 4
}
